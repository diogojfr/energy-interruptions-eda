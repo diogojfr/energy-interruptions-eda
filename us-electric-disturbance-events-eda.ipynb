{
 "cells": [
  {
   "cell_type": "code",
   "execution_count": 1,
   "id": "53dc95a0",
   "metadata": {},
   "outputs": [],
   "source": [
    "import pandas as pd\n",
    "import numpy as np\n",
    "import re\n",
    "from datetime import datetime\n",
    "import matplotlib.pyplot as plt\n",
    "import seaborn as sns\n",
    "%matplotlib inline"
   ]
  },
  {
   "cell_type": "code",
   "execution_count": 2,
   "id": "d00c68ac",
   "metadata": {},
   "outputs": [
    {
     "data": {
      "text/html": [
       "<div>\n",
       "<style scoped>\n",
       "    .dataframe tbody tr th:only-of-type {\n",
       "        vertical-align: middle;\n",
       "    }\n",
       "\n",
       "    .dataframe tbody tr th {\n",
       "        vertical-align: top;\n",
       "    }\n",
       "\n",
       "    .dataframe thead th {\n",
       "        text-align: right;\n",
       "    }\n",
       "</style>\n",
       "<table border=\"1\" class=\"dataframe\">\n",
       "  <thead>\n",
       "    <tr style=\"text-align: right;\">\n",
       "      <th></th>\n",
       "      <th>Month</th>\n",
       "      <th>Area Affected</th>\n",
       "      <th>NERC Region</th>\n",
       "      <th>Event Type</th>\n",
       "      <th>Demand Loss (MW)</th>\n",
       "      <th>Number of Customers Affected</th>\n",
       "      <th>Year</th>\n",
       "      <th>Date/Time Event Began</th>\n",
       "      <th>Date/Time Restoration</th>\n",
       "      <th>Event Duration (hours)</th>\n",
       "    </tr>\n",
       "  </thead>\n",
       "  <tbody>\n",
       "    <tr>\n",
       "      <th>0</th>\n",
       "      <td>January</td>\n",
       "      <td>Washington</td>\n",
       "      <td>WECC</td>\n",
       "      <td>System Operations</td>\n",
       "      <td>0.0</td>\n",
       "      <td>NaN</td>\n",
       "      <td>2019</td>\n",
       "      <td>2019-01-05 13:19:00</td>\n",
       "      <td>2019-01-05 15:07:00</td>\n",
       "      <td>1.80</td>\n",
       "    </tr>\n",
       "    <tr>\n",
       "      <th>1</th>\n",
       "      <td>January</td>\n",
       "      <td>Washington</td>\n",
       "      <td>WECC</td>\n",
       "      <td>Severe Weather</td>\n",
       "      <td>230.0</td>\n",
       "      <td>230000.0</td>\n",
       "      <td>2019</td>\n",
       "      <td>2019-01-06 03:00:00</td>\n",
       "      <td>2019-01-09 07:00:00</td>\n",
       "      <td>4.00</td>\n",
       "    </tr>\n",
       "    <tr>\n",
       "      <th>2</th>\n",
       "      <td>January</td>\n",
       "      <td>California</td>\n",
       "      <td>WECC</td>\n",
       "      <td>Severe Weather</td>\n",
       "      <td>300.0</td>\n",
       "      <td>90382.0</td>\n",
       "      <td>2019</td>\n",
       "      <td>2019-01-06 17:56:00</td>\n",
       "      <td>2019-01-06 21:52:00</td>\n",
       "      <td>3.93</td>\n",
       "    </tr>\n",
       "    <tr>\n",
       "      <th>3</th>\n",
       "      <td>January</td>\n",
       "      <td>Washington</td>\n",
       "      <td>WECC</td>\n",
       "      <td>Severe Weather</td>\n",
       "      <td>NaN</td>\n",
       "      <td>230000.0</td>\n",
       "      <td>2019</td>\n",
       "      <td>2019-01-06 01:00:00</td>\n",
       "      <td>2019-01-06 12:00:00</td>\n",
       "      <td>11.00</td>\n",
       "    </tr>\n",
       "    <tr>\n",
       "      <th>4</th>\n",
       "      <td>January</td>\n",
       "      <td>Michigan</td>\n",
       "      <td>RF</td>\n",
       "      <td>System Operations</td>\n",
       "      <td>0.0</td>\n",
       "      <td>0.0</td>\n",
       "      <td>2019</td>\n",
       "      <td>2019-01-07 20:57:00</td>\n",
       "      <td>2019-01-07 21:32:00</td>\n",
       "      <td>0.58</td>\n",
       "    </tr>\n",
       "  </tbody>\n",
       "</table>\n",
       "</div>"
      ],
      "text/plain": [
       "     Month Area Affected NERC Region         Event Type  Demand Loss (MW)  \\\n",
       "0  January    Washington        WECC  System Operations               0.0   \n",
       "1  January    Washington        WECC     Severe Weather             230.0   \n",
       "2  January    California        WECC     Severe Weather             300.0   \n",
       "3  January    Washington        WECC     Severe Weather               NaN   \n",
       "4  January      Michigan          RF  System Operations               0.0   \n",
       "\n",
       "   Number of Customers Affected  Year Date/Time Event Began  \\\n",
       "0                           NaN  2019   2019-01-05 13:19:00   \n",
       "1                      230000.0  2019   2019-01-06 03:00:00   \n",
       "2                       90382.0  2019   2019-01-06 17:56:00   \n",
       "3                      230000.0  2019   2019-01-06 01:00:00   \n",
       "4                           0.0  2019   2019-01-07 20:57:00   \n",
       "\n",
       "  Date/Time Restoration  Event Duration (hours)  \n",
       "0   2019-01-05 15:07:00                    1.80  \n",
       "1   2019-01-09 07:00:00                    4.00  \n",
       "2   2019-01-06 21:52:00                    3.93  \n",
       "3   2019-01-06 12:00:00                   11.00  \n",
       "4   2019-01-07 21:32:00                    0.58  "
      ]
     },
     "execution_count": 2,
     "metadata": {},
     "output_type": "execute_result"
    }
   ],
   "source": [
    "events_data = pd.read_csv('datasets/df_concat6.csv')\n",
    "events_data.head()"
   ]
  },
  {
   "cell_type": "markdown",
   "id": "c5fadd2d",
   "metadata": {},
   "source": [
    "### How many electric disturbances occurred in the U.S. from 2019 to 2022?"
   ]
  },
  {
   "cell_type": "code",
   "execution_count": 3,
   "id": "bcf1a789",
   "metadata": {
    "scrolled": true
   },
   "outputs": [
    {
     "name": "stdout",
     "output_type": "stream",
     "text": [
      "1438 events were recorded.\n"
     ]
    }
   ],
   "source": [
    "print(f'{events_data.shape[0]} events were recorded.')"
   ]
  },
  {
   "cell_type": "markdown",
   "id": "061d515c",
   "metadata": {},
   "source": [
    "### What was the number of events per year?"
   ]
  },
  {
   "cell_type": "code",
   "execution_count": 21,
   "id": "9f4d6fb5",
   "metadata": {},
   "outputs": [
    {
     "data": {
      "image/png": "[encoded data removed]",
      "text/plain": [
       "<Figure size 400x400 with 1 Axes>"
      ]
     },
     "metadata": {},
     "output_type": "display_data"
    }
   ],
   "source": [
    "# creating a list with number of events per year\n",
    "number_events_year = []\n",
    "\n",
    "# range of years\n",
    "years = range(2019, 2023, 1)\n",
    "\n",
    "# filtering the number of events by year\n",
    "for i in years:\n",
    "    result = events_data.query('Year == @i')\n",
    "    number_events_year.append(result.shape[0])\n",
    "\n",
    "# creating a dataframe with number of events and year variables\n",
    "df = pd.DataFrame({'Number of Events':number_events_year,'Year':years})\n",
    "\n",
    "# plotting \n",
    "fig = plt.subplots(figsize=(4,4))\n",
    "ax = sns.barplot(data = df, x='Year', y='Number of Events', palette='Blues')\n",
    "ax.bar_label(ax.containers[0])# this line shows the values\n",
    "plt.show()"
   ]
  },
  {
   "cell_type": "markdown",
   "id": "a8ab2f39",
   "metadata": {},
   "source": [
    "### What was the number of electric disturbances by month each year?"
   ]
  },
  {
   "cell_type": "code",
   "execution_count": 20,
   "id": "792de0c0",
   "metadata": {},
   "outputs": [
    {
     "data": {
      "text/html": [
       "<div>\n",
       "<style scoped>\n",
       "    .dataframe tbody tr th:only-of-type {\n",
       "        vertical-align: middle;\n",
       "    }\n",
       "\n",
       "    .dataframe tbody tr th {\n",
       "        vertical-align: top;\n",
       "    }\n",
       "\n",
       "    .dataframe thead th {\n",
       "        text-align: right;\n",
       "    }\n",
       "</style>\n",
       "<table border=\"1\" class=\"dataframe\">\n",
       "  <thead>\n",
       "    <tr style=\"text-align: right;\">\n",
       "      <th></th>\n",
       "      <th>Year</th>\n",
       "      <th>Month</th>\n",
       "      <th>Number of Events</th>\n",
       "    </tr>\n",
       "  </thead>\n",
       "  <tbody>\n",
       "    <tr>\n",
       "      <th>0</th>\n",
       "      <td>2019</td>\n",
       "      <td>April</td>\n",
       "      <td>27</td>\n",
       "    </tr>\n",
       "    <tr>\n",
       "      <th>1</th>\n",
       "      <td>2019</td>\n",
       "      <td>August</td>\n",
       "      <td>31</td>\n",
       "    </tr>\n",
       "    <tr>\n",
       "      <th>2</th>\n",
       "      <td>2019</td>\n",
       "      <td>December</td>\n",
       "      <td>15</td>\n",
       "    </tr>\n",
       "    <tr>\n",
       "      <th>3</th>\n",
       "      <td>2019</td>\n",
       "      <td>February</td>\n",
       "      <td>25</td>\n",
       "    </tr>\n",
       "    <tr>\n",
       "      <th>4</th>\n",
       "      <td>2019</td>\n",
       "      <td>January</td>\n",
       "      <td>26</td>\n",
       "    </tr>\n",
       "  </tbody>\n",
       "</table>\n",
       "</div>"
      ],
      "text/plain": [
       "   Year     Month  Number of Events\n",
       "0  2019     April                27\n",
       "1  2019    August                31\n",
       "2  2019  December                15\n",
       "3  2019  February                25\n",
       "4  2019   January                26"
      ]
     },
     "execution_count": 20,
     "metadata": {},
     "output_type": "execute_result"
    }
   ],
   "source": [
    "#each_year = events_data.groupby(['Year']).count()\n",
    "events_each_month = events_data.groupby(['Year','Month'], as_index=False)['Area Affected'].count()\n",
    "\n",
    "events_each_month.rename(columns={'Area Affected':'Number of Events'}, inplace=True)\n",
    "\n",
    "events_each_month.head()"
   ]
  },
  {
   "cell_type": "code",
   "execution_count": 18,
   "id": "ec343b76",
   "metadata": {},
   "outputs": [
    {
     "data": {
      "image/png": "[encoded data removed]",
      "text/plain": [
       "<Figure size 1000x600 with 1 Axes>"
      ]
     },
     "metadata": {},
     "output_type": "display_data"
    }
   ],
   "source": [
    "df_2019 = events_each_month.loc[events_each_month.loc[:,'Year'] == 2019,['Number of Events','Month']]\n",
    "fig = plt.subplots(figsize=(10,6))\n",
    "sns.lineplot(data=df_2019, x='Month', y= 'Number of Events', markers=True)\n",
    "plt.show()"
   ]
  },
  {
   "cell_type": "code",
   "execution_count": null,
   "id": "dc6ce16e",
   "metadata": {},
   "outputs": [],
   "source": [
    "# https://realpython.com/pandas-groupby/\n",
    "# https://seaborn.pydata.org/generated/seaborn.lineplot.html\n",
    "# https://www.datacamp.com/tutorial/python-seaborn-line-plot-tutorial"
   ]
  },
  {
   "cell_type": "code",
   "execution_count": null,
   "id": "ff087d63",
   "metadata": {},
   "outputs": [],
   "source": []
  },
  {
   "cell_type": "code",
   "execution_count": null,
   "id": "36889943",
   "metadata": {},
   "outputs": [],
   "source": []
  },
  {
   "cell_type": "code",
   "execution_count": null,
   "id": "412bc9b6",
   "metadata": {},
   "outputs": [],
   "source": []
  },
  {
   "cell_type": "code",
   "execution_count": null,
   "id": "49bee77f",
   "metadata": {},
   "outputs": [],
   "source": []
  },
  {
   "cell_type": "code",
   "execution_count": null,
   "id": "1b7b1f4e",
   "metadata": {},
   "outputs": [],
   "source": []
  },
  {
   "cell_type": "code",
   "execution_count": null,
   "id": "133067f0",
   "metadata": {},
   "outputs": [],
   "source": []
  },
  {
   "cell_type": "code",
   "execution_count": null,
   "id": "18c0c29c",
   "metadata": {},
   "outputs": [],
   "source": []
  },
  {
   "cell_type": "code",
   "execution_count": null,
   "id": "b0cc3154",
   "metadata": {},
   "outputs": [],
   "source": []
  },
  {
   "cell_type": "code",
   "execution_count": null,
   "id": "8255f4e1",
   "metadata": {},
   "outputs": [],
   "source": []
  },
  {
   "cell_type": "code",
   "execution_count": null,
   "id": "e3220a28",
   "metadata": {},
   "outputs": [],
   "source": []
  },
  {
   "cell_type": "code",
   "execution_count": null,
   "id": "04ed76db",
   "metadata": {},
   "outputs": [],
   "source": []
  },
  {
   "cell_type": "code",
   "execution_count": null,
   "id": "e24279ce",
   "metadata": {},
   "outputs": [],
   "source": []
  },
  {
   "cell_type": "code",
   "execution_count": null,
   "id": "02eb621b",
   "metadata": {},
   "outputs": [],
   "source": []
  },
  {
   "cell_type": "code",
   "execution_count": null,
   "id": "af51b866",
   "metadata": {},
   "outputs": [],
   "source": []
  }
 ],
 "metadata": {
  "kernelspec": {
   "display_name": "Python 3 (ipykernel)",
   "language": "python",
   "name": "python3"
  },
  "language_info": {
   "codemirror_mode": {
    "name": "ipython",
    "version": 3
   },
   "file_extension": ".py",
   "mimetype": "text/x-python",
   "name": "python",
   "nbconvert_exporter": "python",
   "pygments_lexer": "ipython3",
   "version": "3.9.13"
  }
 },
 "nbformat": 4,
 "nbformat_minor": 5
}
